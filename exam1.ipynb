{
 "cells": [
  {
   "cell_type": "code",
   "execution_count": 1,
   "id": "6f26fd59-1d15-4ba8-9f96-ecf4e5099bd5",
   "metadata": {},
   "outputs": [
    {
     "name": "stdin",
     "output_type": "stream",
     "text": [
      "enter any number: 2\n"
     ]
    },
    {
     "name": "stdout",
     "output_type": "stream",
     "text": [
      "the number is even\n"
     ]
    }
   ],
   "source": [
    "i=int(input(\"enter any number:\"))\n",
    "if i%2==0:\n",
    "    print(\"the number is even\")\n",
    "else:\n",
    "    print(\"the number is odd\")"
   ]
  },
  {
   "cell_type": "code",
   "execution_count": 2,
   "id": "863a8436-b4c2-484c-9d83-6a2051b456b4",
   "metadata": {},
   "outputs": [
    {
     "name": "stdin",
     "output_type": "stream",
     "text": [
      "enter any number1: 67\n",
      "enter any number2: 89\n",
      "enter any number3: 90\n"
     ]
    },
    {
     "name": "stdout",
     "output_type": "stream",
     "text": [
      "c is largest\n"
     ]
    }
   ],
   "source": [
    "a=int(input(\"enter any number1:\"))\n",
    "b=int(input(\"enter any number2:\"))\n",
    "c=int(input(\"enter any number3:\"))\n",
    "if a>b and a>c:\n",
    "    print(\" a is largest\")\n",
    "elif b>c and b>a:\n",
    "    print(\"b is largest\")\n",
    "elif c>a and c>b:\n",
    "    print(\"c is largest\")\n",
    "else:\n",
    "    print(\"enter the correct number\")\n",
    "        "
   ]
  },
  {
   "cell_type": "code",
   "execution_count": 3,
   "id": "8e27c2f3-6c3b-4734-b5fd-f2dac2b9b250",
   "metadata": {},
   "outputs": [
    {
     "name": "stdin",
     "output_type": "stream",
     "text": [
      "enter any year 2926\n"
     ]
    },
    {
     "name": "stdout",
     "output_type": "stream",
     "text": [
      "it is not a leap year\n"
     ]
    }
   ],
   "source": [
    "year=int(input(\"enter any year\"))\n",
    "if year%4==0:\n",
    "    print(\"it is leap year\")\n",
    "else:\n",
    "    print(\"it is not a leap year\")"
   ]
  },
  {
   "cell_type": "code",
   "execution_count": 4,
   "id": "a9b54958-e149-4f89-97e4-bc2862f6682c",
   "metadata": {},
   "outputs": [
    {
     "name": "stdin",
     "output_type": "stream",
     "text": [
      "enter any character u\n"
     ]
    },
    {
     "name": "stdout",
     "output_type": "stream",
     "text": [
      "it is vowel\n"
     ]
    }
   ],
   "source": [
    "ch=input(\"enter any character\")\n",
    "v=\"aeiouAEIOU\"\n",
    "if ch in v:\n",
    "    print(\"it is vowel\")\n",
    "else:\n",
    "    print(\"it is consonet\")"
   ]
  },
  {
   "cell_type": "code",
   "execution_count": 5,
   "id": "fa0fe95b-aecb-4085-b03b-f58e52b59e10",
   "metadata": {},
   "outputs": [
    {
     "name": "stdin",
     "output_type": "stream",
     "text": [
      "enter any number 78\n"
     ]
    },
    {
     "name": "stdout",
     "output_type": "stream",
     "text": [
      "the number is not divisible by 3 and 5\n"
     ]
    }
   ],
   "source": [
    "num=int(input(\"enter any number\"))\n",
    "if num%3==0 and num%5==0:\n",
    "    print(\"the number is divisible by both 3 and 5\")\n",
    "else:\n",
    "    print(\"the number is not divisible by 3 and 5\")"
   ]
  },
  {
   "cell_type": "code",
   "execution_count": 6,
   "id": "0b5ab884-3ea4-489e-a77a-9b8d7c0aff5c",
   "metadata": {},
   "outputs": [
    {
     "name": "stdout",
     "output_type": "stream",
     "text": [
      " even number is 2\n",
      " even number is 4\n",
      " even number is 6\n",
      " even number is 8\n",
      " even number is 10\n",
      " even number is 12\n",
      " even number is 14\n",
      " even number is 16\n",
      " even number is 18\n",
      " even number is 20\n",
      " even number is 22\n",
      " even number is 24\n",
      " even number is 26\n",
      " even number is 28\n",
      " even number is 30\n",
      " even number is 32\n",
      " even number is 34\n",
      " even number is 36\n",
      " even number is 38\n",
      " even number is 40\n",
      " even number is 42\n",
      " even number is 44\n",
      " even number is 46\n",
      " even number is 48\n"
     ]
    }
   ],
   "source": [
    "for i in range(2,50,2):\n",
    "    print(\" even number is\",i)"
   ]
  },
  {
   "cell_type": "code",
   "execution_count": 7,
   "id": "37c4a6f0-86d3-4756-9474-e2b6c7043be4",
   "metadata": {},
   "outputs": [
    {
     "name": "stdout",
     "output_type": "stream",
     "text": [
      "5050\n"
     ]
    }
   ],
   "source": [
    "sum=0\n",
    "for i in range(1,101):\n",
    "    sum+=i\n",
    "print(sum)"
   ]
  },
  {
   "cell_type": "code",
   "execution_count": 8,
   "id": "e031976a-9316-4556-8b26-8bb3bf180f09",
   "metadata": {},
   "outputs": [
    {
     "name": "stdin",
     "output_type": "stream",
     "text": [
      "enter any number 8\n"
     ]
    },
    {
     "name": "stdout",
     "output_type": "stream",
     "text": [
      "8 x 1 = 8\n",
      "8 x 2 = 16\n",
      "8 x 3 = 24\n",
      "8 x 4 = 32\n",
      "8 x 5 = 40\n",
      "8 x 6 = 48\n",
      "8 x 7 = 56\n",
      "8 x 8 = 64\n",
      "8 x 9 = 72\n",
      "8 x 10 = 80\n"
     ]
    }
   ],
   "source": [
    "num=int(input(\"enter any number\"))\n",
    "for i  in range(1,11):\n",
    "    print(num,\"x\",i,\"=\",num*i)"
   ]
  },
  {
   "cell_type": "code",
   "execution_count": 9,
   "id": "cad7804a-ad23-44cf-bcc6-3f34202bde57",
   "metadata": {},
   "outputs": [
    {
     "name": "stdout",
     "output_type": "stream",
     "text": [
      "\n",
      "*\n",
      "**\n",
      "***\n",
      "****\n",
      "*****\n"
     ]
    }
   ],
   "source": [
    "for i in range(6):\n",
    "    print(\"*\"*i)"
   ]
  },
  {
   "cell_type": "code",
   "execution_count": 10,
   "id": "cbf46541-42ff-4816-ae52-512137a4d467",
   "metadata": {},
   "outputs": [
    {
     "name": "stdin",
     "output_type": "stream",
     "text": [
      "enter your marks: 78\n"
     ]
    },
    {
     "name": "stdout",
     "output_type": "stream",
     "text": [
      "C grade\n"
     ]
    }
   ],
   "source": [
    "marks=int(input(\"enter your marks:\"))\n",
    "if marks>90 and marks<100:\n",
    "    print(\"A grade\")\n",
    "elif marks>80 and marks<89:\n",
    "    print(\"B grade\")\n",
    "elif marks>70 and marks<79:\n",
    "    print(\"C grade\")\n",
    "elif marks>60 and marks<69:\n",
    "    print(\"D grade\")\n",
    "else:\n",
    "    print(\"fail\")"
   ]
  },
  {
   "cell_type": "code",
   "execution_count": 11,
   "id": "348675df-d570-4a45-9f83-2726e0810a53",
   "metadata": {},
   "outputs": [
    {
     "name": "stdin",
     "output_type": "stream",
     "text": [
      "enter any number1: 89\n",
      "enter any number2: 76\n",
      "enter any number3: 98\n",
      "enter any number4: 56\n",
      "enter any number5: 44\n"
     ]
    },
    {
     "name": "stdout",
     "output_type": "stream",
     "text": [
      "the smallest number is : 44\n"
     ]
    }
   ],
   "source": [
    "a=int(input(\"enter any number1:\"))\n",
    "b=int(input(\"enter any number2:\"))\n",
    "c=int(input(\"enter any number3:\"))\n",
    "d=int(input(\"enter any number4:\"))\n",
    "e=int(input(\"enter any number5:\"))\n",
    "result=min(a,b,c,d,e)\n",
    "print(\"the smallest number is :\",result)"
   ]
  },
  {
   "cell_type": "code",
   "execution_count": 12,
   "id": "0e36fd55-a2bf-4625-87ef-73660bbf856c",
   "metadata": {},
   "outputs": [
    {
     "name": "stdin",
     "output_type": "stream",
     "text": [
      "enter any word hello\n"
     ]
    },
    {
     "name": "stdout",
     "output_type": "stream",
     "text": [
      "hello\n"
     ]
    }
   ],
   "source": [
    "var=input(\"enter any word\")\n",
    "if var==\"exit\":\n",
    "    pass\n",
    "else:\n",
    "    print(var)"
   ]
  },
  {
   "cell_type": "code",
   "execution_count": 14,
   "id": "208191db-32c3-467e-a4c7-07bbade78fb9",
   "metadata": {},
   "outputs": [
    {
     "name": "stdin",
     "output_type": "stream",
     "text": [
      "enter any number: 89\n"
     ]
    },
    {
     "ename": "TypeError",
     "evalue": "'int' object is not subscriptable",
     "output_type": "error",
     "traceback": [
      "\u001b[31m---------------------------------------------------------------------------\u001b[39m",
      "\u001b[31mTypeError\u001b[39m                                 Traceback (most recent call last)",
      "\u001b[36mCell\u001b[39m\u001b[36m \u001b[39m\u001b[32mIn[14]\u001b[39m\u001b[32m, line 2\u001b[39m\n\u001b[32m      1\u001b[39m num=\u001b[38;5;28mint\u001b[39m(\u001b[38;5;28minput\u001b[39m(\u001b[33m\"\u001b[39m\u001b[33menter any number:\u001b[39m\u001b[33m\"\u001b[39m))\n\u001b[32m----> \u001b[39m\u001b[32m2\u001b[39m \u001b[43mnum\u001b[49m\u001b[43m[\u001b[49m\u001b[43m:\u001b[49m\u001b[43m:\u001b[49m\u001b[43m-\u001b[49m\u001b[32;43m1\u001b[39;49m\u001b[43m]\u001b[49m\n",
      "\u001b[31mTypeError\u001b[39m: 'int' object is not subscriptable"
     ]
    }
   ],
   "source": [
    "num=int(input(\"enter any number:\"))\n",
    "num[::-1]"
   ]
  },
  {
   "cell_type": "code",
   "execution_count": null,
   "id": "46bdade7-0434-4adb-ac00-88bfa442c5b5",
   "metadata": {},
   "outputs": [],
   "source": [
    "for i in range(1,101):\n",
    "    if i%7==0:\n",
    "        print(i)\n",
    "    else:\n",
    "        pass"
   ]
  },
  {
   "cell_type": "code",
   "execution_count": null,
   "id": "fe47fa24-d3a4-47f1-92ff-627a54d470de",
   "metadata": {},
   "outputs": [],
   "source": [
    "ch=input(\"enter any character\")\n",
    "val=\"hello world\"\n",
    "ch in val"
   ]
  },
  {
   "cell_type": "code",
   "execution_count": null,
   "id": "2e13a314-e5fc-4ac6-bc46-0880b8a7dc84",
   "metadata": {},
   "outputs": [],
   "source": [
    "num=int(input(\"enter any number\"))\n",
    "count=0\n",
    "while num>0:\n",
    "    count+=1\n",
    "print(count)"
   ]
  },
  {
   "cell_type": "code",
   "execution_count": 17,
   "id": "be9f6ae8-459e-45ce-90b9-a494d6f9b74f",
   "metadata": {},
   "outputs": [
    {
     "name": "stdout",
     "output_type": "stream",
     "text": [
      "hello\n"
     ]
    }
   ],
   "source": [
    "print(\"hello\")"
   ]
  },
  {
   "cell_type": "code",
   "execution_count": 21,
   "id": "2c967258-82f2-483c-b17a-6d6fcd4910a0",
   "metadata": {},
   "outputs": [
    {
     "name": "stdout",
     "output_type": "stream",
     "text": [
      "1\n",
      "2\n",
      "3\n",
      "4\n",
      "5\n",
      "6\n",
      "7\n",
      "8\n",
      "9\n",
      "10\n"
     ]
    }
   ],
   "source": [
    "v=0\n",
    "while v<10:\n",
    "    v+=1\n",
    "    print(v)"
   ]
  },
  {
   "cell_type": "code",
   "execution_count": 22,
   "id": "1599e14c-2749-430c-aa11-35395d1ec7a4",
   "metadata": {},
   "outputs": [
    {
     "name": "stdout",
     "output_type": "stream",
     "text": [
      "1\n",
      "2\n",
      "4\n",
      "5\n",
      "7\n",
      "8\n",
      "10\n",
      "11\n",
      "13\n",
      "14\n"
     ]
    }
   ],
   "source": [
    "for i in range(16):\n",
    "    if i%3==0:\n",
    "        pass\n",
    "    else:\n",
    "        print(i)"
   ]
  },
  {
   "cell_type": "code",
   "execution_count": 23,
   "id": "52708a69-da19-49bd-8a43-e16ceb3fe94a",
   "metadata": {},
   "outputs": [
    {
     "name": "stdout",
     "output_type": "stream",
     "text": [
      "67\n",
      "45\n",
      "899\n",
      "34\n"
     ]
    }
   ],
   "source": [
    "l=[1,2,4,3,67,45,899,34,0,5]\n",
    "for i in l:\n",
    "    if i>10:\n",
    "        print(i)"
   ]
  },
  {
   "cell_type": "code",
   "execution_count": null,
   "id": "4ddbd2f0-f9ef-457a-a096-c9b35a7c4d38",
   "metadata": {},
   "outputs": [],
   "source": []
  }
 ],
 "metadata": {
  "kernelspec": {
   "display_name": "Python 3 (ipykernel)",
   "language": "python",
   "name": "python3"
  },
  "language_info": {
   "codemirror_mode": {
    "name": "ipython",
    "version": 3
   },
   "file_extension": ".py",
   "mimetype": "text/x-python",
   "name": "python",
   "nbconvert_exporter": "python",
   "pygments_lexer": "ipython3",
   "version": "3.13.5"
  }
 },
 "nbformat": 4,
 "nbformat_minor": 5
}
