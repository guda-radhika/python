{
 "cells": [
  {
   "cell_type": "markdown",
   "id": "c83bf659-5097-40d0-8e36-8ec55211e756",
   "metadata": {},
   "source": [
    "### 1.Create a list of squares of numbers from 1 to 10 using list comprehension.\n"
   ]
  },
  {
   "cell_type": "code",
   "execution_count": 3,
   "id": "91518bc2-33b6-468c-9d4b-e6b69d30d06b",
   "metadata": {},
   "outputs": [],
   "source": [
    "l=[3,4,5,6]\n",
    "s=[i*i for i in l]"
   ]
  },
  {
   "cell_type": "code",
   "execution_count": 4,
   "id": "89b46694-69f9-4319-ab43-ea393d4ff78d",
   "metadata": {},
   "outputs": [
    {
     "data": {
      "text/plain": [
       "[9, 16, 25, 36]"
      ]
     },
     "execution_count": 4,
     "metadata": {},
     "output_type": "execute_result"
    }
   ],
   "source": [
    "s"
   ]
  },
  {
   "cell_type": "markdown",
   "id": "2cd23e0d-ecd5-4055-9a84-b0a6d16b9744",
   "metadata": {},
   "source": [
    "### 2.Generate a list of even numbers from 1 to 20 using list comprehension."
   ]
  },
  {
   "cell_type": "code",
   "execution_count": 5,
   "id": "d5c87350-c55b-439d-b65c-86e48e2aa928",
   "metadata": {},
   "outputs": [],
   "source": [
    "d=[x for x in range(20) if x%2==0]"
   ]
  },
  {
   "cell_type": "code",
   "execution_count": 6,
   "id": "b2f4f76b-d692-4cb9-a57d-52870af503b2",
   "metadata": {},
   "outputs": [
    {
     "data": {
      "text/plain": [
       "[0, 2, 4, 6, 8, 10, 12, 14, 16, 18]"
      ]
     },
     "execution_count": 6,
     "metadata": {},
     "output_type": "execute_result"
    }
   ],
   "source": [
    "d"
   ]
  },
  {
   "cell_type": "code",
   "execution_count": 9,
   "id": "c977d460-64dd-4696-8f85-c9e4a777305b",
   "metadata": {},
   "outputs": [],
   "source": [
    "h=[x for x in range(0,20,2)]"
   ]
  },
  {
   "cell_type": "code",
   "execution_count": 10,
   "id": "9def6b55-0a48-4160-a6bc-f74343587417",
   "metadata": {},
   "outputs": [
    {
     "data": {
      "text/plain": [
       "[0, 2, 4, 6, 8, 10, 12, 14, 16, 18]"
      ]
     },
     "execution_count": 10,
     "metadata": {},
     "output_type": "execute_result"
    }
   ],
   "source": [
    "h"
   ]
  },
  {
   "cell_type": "markdown",
   "id": "63485b99-3c58-4d95-8896-5767ca0c8176",
   "metadata": {},
   "source": [
    "### 3. Create a list of the first letters of each word in the list: [\"apple\", \"banana\", \"cherry\", \"date\"].\n"
   ]
  },
  {
   "cell_type": "code",
   "execution_count": 11,
   "id": "6e233883-7bf0-4c7e-8f65-7153dba6f721",
   "metadata": {},
   "outputs": [],
   "source": [
    "words=[\"apple\",\"banana\",\"cherry\",\"date\"]"
   ]
  },
  {
   "cell_type": "code",
   "execution_count": 17,
   "id": "3a9b2019-f2b8-4c63-94ef-6318914ad685",
   "metadata": {},
   "outputs": [],
   "source": [
    "f_l=[word[0] for word in words]"
   ]
  },
  {
   "cell_type": "code",
   "execution_count": 18,
   "id": "e8c522d7-ac7e-4ea6-a6e3-470c6eca2f8b",
   "metadata": {},
   "outputs": [
    {
     "data": {
      "text/plain": [
       "['a', 'b', 'c', 'd']"
      ]
     },
     "execution_count": 18,
     "metadata": {},
     "output_type": "execute_result"
    }
   ],
   "source": [
    "f_l"
   ]
  },
  {
   "cell_type": "markdown",
   "id": "5e8e776e-bfce-4f18-9d1e-2dd61d4fd44f",
   "metadata": {},
   "source": [
    "### 4.Convert a list of temperatures in Celsius [0, 10, 20, 30, 40] to Fahrenheit using list comprehension. (Formula: F = (C * 9/5) + 32)\n"
   ]
  },
  {
   "cell_type": "code",
   "execution_count": 20,
   "id": "44386714-a574-4082-87ec-448d11350e92",
   "metadata": {},
   "outputs": [],
   "source": [
    "celsius=[0,10,20,30,40]\n",
    "fahrenheit=[(c*9/5)+32 for c in celsius]"
   ]
  },
  {
   "cell_type": "code",
   "execution_count": 21,
   "id": "6e90e39c-6490-472e-a36e-210a8530511c",
   "metadata": {},
   "outputs": [
    {
     "data": {
      "text/plain": [
       "[32.0, 50.0, 68.0, 86.0, 104.0]"
      ]
     },
     "execution_count": 21,
     "metadata": {},
     "output_type": "execute_result"
    }
   ],
   "source": [
    "fahrenheit"
   ]
  },
  {
   "cell_type": "markdown",
   "id": "b258cfd1-7a3c-47e1-811d-9f7883c1fc0e",
   "metadata": {},
   "source": [
    "### 5.create a list of the first 10 natural numbers using list comprehension.\n",
    "\n"
   ]
  },
  {
   "cell_type": "code",
   "execution_count": 22,
   "id": "06852b9e-a333-49e3-bb85-d9d401172605",
   "metadata": {},
   "outputs": [],
   "source": [
    "n=[i for i in range(11)]"
   ]
  },
  {
   "cell_type": "code",
   "execution_count": 23,
   "id": "78e55277-160a-4551-b818-ca1a544284c6",
   "metadata": {},
   "outputs": [
    {
     "data": {
      "text/plain": [
       "[0, 1, 2, 3, 4, 5, 6, 7, 8, 9, 10]"
      ]
     },
     "execution_count": 23,
     "metadata": {},
     "output_type": "execute_result"
    }
   ],
   "source": [
    "n"
   ]
  },
  {
   "cell_type": "markdown",
   "id": "20057cd5-e761-40bf-b0ed-911f2be14879",
   "metadata": {},
   "source": [
    "### 6.Generate a list of cubes of numbers from 1 to 10."
   ]
  },
  {
   "cell_type": "code",
   "execution_count": 25,
   "id": "b8c78142-c8b0-43d4-b402-42eaa393a1be",
   "metadata": {},
   "outputs": [],
   "source": [
    "c=[i*i for i in range(11)]"
   ]
  },
  {
   "cell_type": "code",
   "execution_count": 26,
   "id": "f404b42a-1b8e-4e80-a6fc-56edfb7ceb4a",
   "metadata": {},
   "outputs": [
    {
     "data": {
      "text/plain": [
       "[0, 1, 4, 9, 16, 25, 36, 49, 64, 81, 100]"
      ]
     },
     "execution_count": 26,
     "metadata": {},
     "output_type": "execute_result"
    }
   ],
   "source": [
    "c"
   ]
  },
  {
   "cell_type": "markdown",
   "id": "2d7b7793-789b-4402-88d7-e8430d5a0417",
   "metadata": {},
   "source": [
    "### 7.Extract the first character from each word in the list: [\"apple\", \"banana\", \"cherry\", \"date\"].\n"
   ]
  },
  {
   "cell_type": "code",
   "execution_count": 27,
   "id": "6d7b292c-1dd3-4fee-8382-9fae92b02d05",
   "metadata": {},
   "outputs": [],
   "source": [
    "w=[\"apple\",\"banana\",\"cherry\",\"date\"]\n",
    "h=[i[0]  for i in w]"
   ]
  },
  {
   "cell_type": "code",
   "execution_count": 28,
   "id": "4acc1023-5de2-44e0-8346-fd9403f1820d",
   "metadata": {},
   "outputs": [
    {
     "data": {
      "text/plain": [
       "['a', 'b', 'c', 'd']"
      ]
     },
     "execution_count": 28,
     "metadata": {},
     "output_type": "execute_result"
    }
   ],
   "source": [
    "h"
   ]
  },
  {
   "cell_type": "markdown",
   "id": "2ad2490b-2c53-4f5c-8a39-05d082c2523b",
   "metadata": {},
   "source": [
    "### 8.Given a string \"Python is fun\", create a list of words in the string."
   ]
  },
  {
   "cell_type": "code",
   "execution_count": 33,
   "id": "46c74fb8-a048-4911-b0d1-04d8cc4a98a0",
   "metadata": {},
   "outputs": [],
   "source": [
    "s=\"python is fun\"\n",
    "l=[i for i in s.split()]"
   ]
  },
  {
   "cell_type": "code",
   "execution_count": 34,
   "id": "4587dfba-b092-4fac-998c-fa9757f1f747",
   "metadata": {},
   "outputs": [
    {
     "data": {
      "text/plain": [
       "['python', 'is', 'fun']"
      ]
     },
     "execution_count": 34,
     "metadata": {},
     "output_type": "execute_result"
    }
   ],
   "source": [
    "l"
   ]
  },
  {
   "cell_type": "markdown",
   "id": "a834a807-eb6e-4075-8eaf-09b719b42927",
   "metadata": {},
   "source": [
    "### 9.Convert a list of strings [\"Hello\", \"World\", \"Python\"] to uppercase using list comprehension.\n",
    "\n"
   ]
  },
  {
   "cell_type": "code",
   "execution_count": 37,
   "id": "f7234af8-912b-4907-8cea-d8b2d84928fe",
   "metadata": {},
   "outputs": [],
   "source": [
    "l=[\"hello\",\"world\",\"python\"]\n",
    "j=[i.upper() for  i in l] "
   ]
  },
  {
   "cell_type": "code",
   "execution_count": 38,
   "id": "0b32622d-d3e6-427c-9e81-3d37d591d82c",
   "metadata": {},
   "outputs": [
    {
     "data": {
      "text/plain": [
       "['HELLO', 'WORLD', 'PYTHON']"
      ]
     },
     "execution_count": 38,
     "metadata": {},
     "output_type": "execute_result"
    }
   ],
   "source": [
    "j"
   ]
  },
  {
   "cell_type": "markdown",
   "id": "9b7f8689-b510-408b-9b0e-f1a06a7c3f32",
   "metadata": {},
   "source": [
    "#### conditional list comprehension"
   ]
  },
  {
   "cell_type": "markdown",
   "id": "2caa78ff-de20-4172-ae3b-f54ff1db08d2",
   "metadata": {},
   "source": [
    "### 1.Create a list of numbers from 1 to 50 that are divisible by both 3 and 5.\n"
   ]
  },
  {
   "cell_type": "code",
   "execution_count": 39,
   "id": "33e523a9-ff44-460b-b299-9484c32f51b3",
   "metadata": {},
   "outputs": [],
   "source": [
    "l=[i for i in range(50) if i%3==0 and i%5==0]"
   ]
  },
  {
   "cell_type": "code",
   "execution_count": 40,
   "id": "d4883b8a-06a9-4902-8e27-560f5c177118",
   "metadata": {},
   "outputs": [
    {
     "data": {
      "text/plain": [
       "[0, 15, 30, 45]"
      ]
     },
     "execution_count": 40,
     "metadata": {},
     "output_type": "execute_result"
    }
   ],
   "source": [
    "l"
   ]
  },
  {
   "cell_type": "markdown",
   "id": "caf0a601-14b4-4aef-abdf-6b8d8218e21a",
   "metadata": {},
   "source": [
    "### 2.Given a list of numbers [1, 2, 3, 4, 5, 6, 7, 8, 9, 10], create a new list containing only the odd numbers.\n"
   ]
  },
  {
   "cell_type": "code",
   "execution_count": 41,
   "id": "24dc1e56-da21-4c67-b6b6-8a9ea3ca2a55",
   "metadata": {},
   "outputs": [],
   "source": [
    "l=[1,2,3,4,5,6,7,8,9,10]\n",
    "j=[i for i in l if i%2!=0]"
   ]
  },
  {
   "cell_type": "code",
   "execution_count": 42,
   "id": "8824699f-cdb2-4746-9bfb-d7209bd77972",
   "metadata": {},
   "outputs": [
    {
     "data": {
      "text/plain": [
       "[1, 3, 5, 7, 9]"
      ]
     },
     "execution_count": 42,
     "metadata": {},
     "output_type": "execute_result"
    }
   ],
   "source": [
    "j"
   ]
  },
  {
   "cell_type": "markdown",
   "id": "73dbb098-37c0-48ef-a21f-3bcfca956801",
   "metadata": {},
   "source": [
    "### 3.Given a string \"hello world\", create a list of vowels present in the string.\n"
   ]
  },
  {
   "cell_type": "code",
   "execution_count": 46,
   "id": "a83ec4ad-f1b8-4340-9097-f3d83d438451",
   "metadata": {},
   "outputs": [
    {
     "data": {
      "text/plain": [
       "['e', 'o', 'o']"
      ]
     },
     "execution_count": 46,
     "metadata": {},
     "output_type": "execute_result"
    }
   ],
   "source": [
    "s=\"hello world\"\n",
    "v=[i for i in s if i in \"aeiou\"]\n",
    "v"
   ]
  },
  {
   "cell_type": "markdown",
   "id": "82b972bf-7f07-4a91-859c-682c886b7e1d",
   "metadata": {},
   "source": [
    "### 4.Convert a list of words [\"Hello\", \"WORLD\", \"Python\", \"LiSt\"] to lowercase using list comprehension.\n"
   ]
  },
  {
   "cell_type": "code",
   "execution_count": 47,
   "id": "7478cb59-0a3d-4187-aa73-bf5f4815343a",
   "metadata": {},
   "outputs": [],
   "source": [
    "l=[\"HELLO\",\"WORLD\",\"Python\",\"liSt\"]"
   ]
  },
  {
   "cell_type": "code",
   "execution_count": 48,
   "id": "0567857a-47a8-4ee2-ac7c-44d512fbfab7",
   "metadata": {},
   "outputs": [],
   "source": [
    "s=[i.lower() for i in l]"
   ]
  },
  {
   "cell_type": "code",
   "execution_count": 49,
   "id": "1fcb954d-caab-4031-93f6-41d90ce5c6d6",
   "metadata": {},
   "outputs": [
    {
     "data": {
      "text/plain": [
       "['hello', 'world', 'python', 'list']"
      ]
     },
     "execution_count": 49,
     "metadata": {},
     "output_type": "execute_result"
    }
   ],
   "source": [
    "s"
   ]
  },
  {
   "cell_type": "markdown",
   "id": "429e6fba-dcd9-483c-ba0b-6a518175a997",
   "metadata": {},
   "source": [
    "### 5.Create a list of even numbers from 1 to 50.\n"
   ]
  },
  {
   "cell_type": "code",
   "execution_count": 53,
   "id": "b8602f08-9824-4af1-a7f3-ad07781c8e7a",
   "metadata": {},
   "outputs": [],
   "source": [
    "j=[i for i in range(0,50,2)]"
   ]
  },
  {
   "cell_type": "code",
   "execution_count": 54,
   "id": "90c53caa-2138-4fd7-a4fb-0af4030b0c9b",
   "metadata": {},
   "outputs": [
    {
     "data": {
      "text/plain": [
       "[0,\n",
       " 2,\n",
       " 4,\n",
       " 6,\n",
       " 8,\n",
       " 10,\n",
       " 12,\n",
       " 14,\n",
       " 16,\n",
       " 18,\n",
       " 20,\n",
       " 22,\n",
       " 24,\n",
       " 26,\n",
       " 28,\n",
       " 30,\n",
       " 32,\n",
       " 34,\n",
       " 36,\n",
       " 38,\n",
       " 40,\n",
       " 42,\n",
       " 44,\n",
       " 46,\n",
       " 48]"
      ]
     },
     "execution_count": 54,
     "metadata": {},
     "output_type": "execute_result"
    }
   ],
   "source": [
    "j"
   ]
  },
  {
   "cell_type": "markdown",
   "id": "53f730de-d16e-43d9-a09d-8842b2eae2c7",
   "metadata": {},
   "source": [
    "### 6.Generate a list of numbers from 1 to 20 that are not divisible by 3."
   ]
  },
  {
   "cell_type": "code",
   "execution_count": 55,
   "id": "a6783a9c-261b-4703-9340-1e995f2ce005",
   "metadata": {},
   "outputs": [],
   "source": [
    "t=[i for i in range(20) if i%3!=0]"
   ]
  },
  {
   "cell_type": "code",
   "execution_count": 56,
   "id": "9163d1e1-ebbc-4864-b52d-8835d8257fb9",
   "metadata": {},
   "outputs": [
    {
     "data": {
      "text/plain": [
       "[1, 2, 4, 5, 7, 8, 10, 11, 13, 14, 16, 17, 19]"
      ]
     },
     "execution_count": 56,
     "metadata": {},
     "output_type": "execute_result"
    }
   ],
   "source": [
    "t"
   ]
  },
  {
   "cell_type": "markdown",
   "id": "4c218e3a-90d5-402a-9cae-1b6d83a5196a",
   "metadata": {},
   "source": [
    "### 7.Given a list [5, 12, 17, 9, 3, 21, 30], create a new list containing only numbers greater than 10.\n"
   ]
  },
  {
   "cell_type": "code",
   "execution_count": 57,
   "id": "8550aff0-6f6b-4d7d-b0e6-98a17c0660cf",
   "metadata": {},
   "outputs": [],
   "source": [
    "l=[5,12,17,9,3,21,30]\n",
    "g=[i for i in l if i>10]"
   ]
  },
  {
   "cell_type": "code",
   "execution_count": 58,
   "id": "42e1007b-984f-4caa-b284-dc491dc516d5",
   "metadata": {},
   "outputs": [
    {
     "data": {
      "text/plain": [
       "[12, 17, 21, 30]"
      ]
     },
     "execution_count": 58,
     "metadata": {},
     "output_type": "execute_result"
    }
   ],
   "source": [
    "g"
   ]
  },
  {
   "cell_type": "markdown",
   "id": "54febaf6-d822-4072-b4a9-4db92fe9f74e",
   "metadata": {},
   "source": [
    "### 8.Create a list of squares of only the even numbers from 1 to 10.\n"
   ]
  },
  {
   "cell_type": "code",
   "execution_count": 59,
   "id": "29843fba-7950-47e3-9757-07b070273cb1",
   "metadata": {},
   "outputs": [],
   "source": [
    "l=[i*i for i in range(0,10,2)]"
   ]
  },
  {
   "cell_type": "code",
   "execution_count": 60,
   "id": "130ebca5-8715-4d7f-9562-170f1dd6c530",
   "metadata": {},
   "outputs": [
    {
     "data": {
      "text/plain": [
       "[0, 4, 16, 36, 64]"
      ]
     },
     "execution_count": 60,
     "metadata": {},
     "output_type": "execute_result"
    }
   ],
   "source": [
    "l"
   ]
  },
  {
   "cell_type": "markdown",
   "id": "f91224b7-415d-4cc8-ad55-46457d69106d",
   "metadata": {},
   "source": [
    "### 9.Given a list of words [\"dog\", \"elephant\", \"cat\", \"rabbit\"], create a new list containing only words with more than 3 letters."
   ]
  },
  {
   "cell_type": "code",
   "execution_count": 61,
   "id": "44d63983-733c-4ef0-8259-a5358397ca8a",
   "metadata": {},
   "outputs": [],
   "source": [
    "w2=[\"dog\",\"elephant\",\"cat\",\"rabbit\"]\n",
    "l=[w for w in w2 if len(w)>3]"
   ]
  },
  {
   "cell_type": "code",
   "execution_count": 62,
   "id": "2b4a9ed9-cebe-44e4-a6bd-42679b497620",
   "metadata": {},
   "outputs": [
    {
     "data": {
      "text/plain": [
       "['elephant', 'rabbit']"
      ]
     },
     "execution_count": 62,
     "metadata": {},
     "output_type": "execute_result"
    }
   ],
   "source": [
    "l"
   ]
  },
  {
   "cell_type": "code",
   "execution_count": null,
   "id": "e203ab51-af9c-4c8e-86b0-c514ba125ddf",
   "metadata": {},
   "outputs": [],
   "source": []
  }
 ],
 "metadata": {
  "kernelspec": {
   "display_name": "Python 3 (ipykernel)",
   "language": "python",
   "name": "python3"
  },
  "language_info": {
   "codemirror_mode": {
    "name": "ipython",
    "version": 3
   },
   "file_extension": ".py",
   "mimetype": "text/x-python",
   "name": "python",
   "nbconvert_exporter": "python",
   "pygments_lexer": "ipython3",
   "version": "3.13.5"
  }
 },
 "nbformat": 4,
 "nbformat_minor": 5
}
